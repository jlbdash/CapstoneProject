{
    "cells": [
        {
            "cell_type": "markdown",
            "metadata": {
                "collapsed": true
            },
            "source": "<h2>Imports</h2>"
        },
        {
            "cell_type": "code",
            "execution_count": null,
            "metadata": {},
            "outputs": [],
            "source": "# All the imports\n\nimport pandas as pd\npd.set_option('display.max_columns', None)\npd.set_option('display.max_rows', None)\n\nimport types\nfrom botocore.client import Config\nimport ibm_boto3\n\nimport json\n\nimport requests\nfrom pandas.io.json import json_normalize\n\nimport numpy as np\nfrom geopy.geocoders import Nominatim\nimport matplotlib.cm as cm\nimport matplotlib.colors as colors\nimport matplotlib as mpl\nimport matplotlib.pyplot as plt\n\nfrom sklearn.cluster import KMeans\n\n!pip install folium==0.5.0\nimport folium "
        },
        {
            "cell_type": "markdown",
            "metadata": {},
            "source": "<h2>Montreal Raw Data</h2>"
        },
        {
            "cell_type": "code",
            "execution_count": null,
            "metadata": {},
            "outputs": [],
            "source": "# The code was removed by Watson Studio for sharing."
        },
        {
            "cell_type": "code",
            "execution_count": null,
            "metadata": {},
            "outputs": [],
            "source": "body = client_55e1b85e93954a0a8adb3f781687106a.get_object(Bucket='capstone-donotdelete-pr-zvspxpvrshowno',Key='quartierreferencehabitation.csv')['Body']\n# add missing __iter__ method, so pandas accepts body as file-like object\nif not hasattr(body, \"__iter__\"): body.__iter__ = types.MethodType( __iter__, body )\n\ndf_data_3 = pd.read_csv(body)\nmount = df_data_3.drop(columns=['no_qr', 'nom_mun','no_arr'])"
        },
        {
            "cell_type": "code",
            "execution_count": null,
            "metadata": {},
            "outputs": [],
            "source": "\nbody = client_55e1b85e93954a0a8adb3f781687106a.get_object(Bucket='capstone-donotdelete-pr-zvspxpvrshowno',Key='Neighbourhoods.csv')['Body']\n# add missing __iter__ method, so pandas accepts body as file-like object\nif not hasattr(body, \"__iter__\"): body.__iter__ = types.MethodType( __iter__, body )\n\ndf_data_5 = pd.read_csv(body)\n"
        },
        {
            "cell_type": "markdown",
            "metadata": {},
            "source": "Time to merge!"
        },
        {
            "cell_type": "code",
            "execution_count": null,
            "metadata": {
                "scrolled": true
            },
            "outputs": [],
            "source": "# Combine the two data sets\ncity = mount.merge(df_data_5, how='inner', on='Neighbourhood')\n\n#find one Borough\nriv_data = city[city['Borough'] == 'Mercier\u2013Hochelaga-Maisonneuve'].reset_index(drop=True)\nriv_data.head()"
        },
        {
            "cell_type": "code",
            "execution_count": null,
            "metadata": {},
            "outputs": [],
            "source": "print('The dataframe has {} boroughs and {} neighbourhoods.'.format(\n        len(riv_data['Borough'].unique()),\n        riv_data.shape[0]\n    )\n)"
        },
        {
            "cell_type": "code",
            "execution_count": null,
            "metadata": {
                "scrolled": true
            },
            "outputs": [],
            "source": "address = 'Mercier\u2013Hochelaga-Maisonneuve, QC' \n\ngeolocator = Nominatim(user_agent=\"qb_explorer\")\nlocation = geolocator.geocode(address)\nnlatitude = location.latitude\nnlongitude = location.longitude\nprint('The geograpical coordinate of Mercier\u2013Hochelaga-Maisonneuve, Montreal are {}, {}.'.format(latitude, longitude))"
        },
        {
            "cell_type": "code",
            "execution_count": null,
            "metadata": {},
            "outputs": [],
            "source": "# create map of Quebec City using latitude and longitude values\nmap_quebec = folium.Map(location=[nlatitude, nlongitude], zoom_start=11)\n\n# add markers to map\nfor lat, lng, borough, neighbourhood in zip(riv_data['Latitude'], city['Longitude'], city['Borough'], city['Neighbourhood']):\n    label = '{}, {}'.format(neighbourhood, borough)\n    label = folium.Popup(label, parse_html=True)\n    folium.CircleMarker(\n        [lat, lng],\n        radius=5,\n        popup=label,\n        color='blue',\n        fill=True,\n        fill_color='#3186cc',\n        fill_opacity=0.7,\n        parse_html=False).add_to(map_quebec)  \n    \nmap_quebec"
        },
        {
            "cell_type": "markdown",
            "metadata": {},
            "source": "<h2>Using FourSquare API</h2>"
        },
        {
            "cell_type": "markdown",
            "metadata": {},
            "source": "<h3>Getting Venues</h3>"
        },
        {
            "cell_type": "code",
            "execution_count": null,
            "metadata": {},
            "outputs": [],
            "source": "# Foursqaure ID\n\nimport json\n{\n    \"tags\": [\n        \"remove-input\",\n    ]\n}\nCLIENT_ID = '4F2TWL40HEUEKJXU01ZUMRE4ZNYOGGTRNMPLGRVNJT33J1KJ' # your Foursquare ID\nCLIENT_SECRET = 'O5MCRNOS2HOODSSYWX15PYEVB05WZMPY2VGB3GC1K4KQBCFG' # your Foursquare Secret\nACCESS_TOKEN = 'KFUMX2PWRS3FVCUZRGFCYPKLJ1VEKWDLC2NWLHOW24M3S5C4'\nversion = '20180605' # Foursquare API version\nlimit = 100 # A default Foursquare API limit value\nradius = 2000 "
        },
        {
            "cell_type": "code",
            "execution_count": null,
            "metadata": {},
            "outputs": [],
            "source": "#function created to find the venues dealing only with food\n\ndef getNearbyVenues(names, latitudes, longitudes):\n    \n    venues_list=[]\n    for name, lat, lng in zip(names, latitudes, longitudes):\n        print(name)\n            \n        # create the API request URL\n        categoryId = '4d4b7105d754a06374d81259' # ID of 'Food'\n        url = 'https://api.foursquare.com/v2/venues/search?&categoryId={}&client_id={}&client_secret={}&v={}&ll={},{}&radius={}&limit={}'.format(\n            categoryId, \n            CLIENT_ID, \n            CLIENT_SECRET, \n            version, \n            lat, \n            lng, \n            radius, \n            limit)\n            \n        # make the GET request\n        results = requests.get(url).json()[\"response\"]['venues']\n\n        venues_list.append([(\n            name, \n            lat, \n            lng, \n            v['name'],\n            v['id'],\n            v['location']['lat'], \n            v['location']['lng'],  \n            v['categories'][0]['name']) for v in results])\n\n    \n        nearby_venues = pd.DataFrame([item for venue_list in venues_list for item in venue_list])\n        nearby_venues.columns = ['Neighbourhood', \n                  'Neighbourhood Latitude', \n                  'Neighbourhood Longitude', \n                  'Venue', \n                    'Venue Id',\n                  'Venue Latitude', \n                  'Venue Longitude', \n                  'Venue Category']\n    \n    return(nearby_venues)"
        },
        {
            "cell_type": "code",
            "execution_count": null,
            "metadata": {},
            "outputs": [],
            "source": "#run function for food venues\n\ncity_venues = getNearbyVenues(names=riv_data['Neighbourhood'],\n                                   latitudes=riv_data['Latitude'],\n                                   longitudes=riv_data['Longitude']\n                                  )"
        },
        {
            "cell_type": "code",
            "execution_count": null,
            "metadata": {},
            "outputs": [],
            "source": "#cleaning up the data duplicates\ncityven = city_venues.drop_duplicates(subset=['Venue','Venue Latitude','Venue Longitude'], keep='last')\ncityven.head()"
        },
        {
            "cell_type": "code",
            "execution_count": null,
            "metadata": {},
            "outputs": [],
            "source": "print('There are {} uniques categories.'.format(len(cityven['Venue Category'].unique())))"
        },
        {
            "cell_type": "markdown",
            "metadata": {},
            "source": "<h3> Getting Ratings </h3>"
        },
        {
            "cell_type": "code",
            "execution_count": null,
            "metadata": {},
            "outputs": [],
            "source": "# function for likes of specific venues\n\ndef getVenueRatings(venueId):\n    \n    venues_list=[]\n\n    for venueId in venueId:\n        print(venueId)\n    \n        url = 'https://api.foursquare.com/v2/venues/{}/likes?&client_id={}&client_secret={}&v={}'.format(\n            venueId, \n            CLIENT_ID, \n            CLIENT_SECRET, \n            version, \n           )    \n    \n        results = requests.get(url).json()['response']\n        venues_list.append((venueId,\n            results['likes']['count']))\n\n    near_venues = pd.DataFrame(venues_list, columns =['Venue Id', 'Venue Likes']) \n\n    return(near_venues)"
        },
        {
            "cell_type": "code",
            "execution_count": null,
            "metadata": {},
            "outputs": [],
            "source": "# run likes function\n\nvenuelist = getVenueRatings(venueId=cityven['Venue Id'])"
        },
        {
            "cell_type": "code",
            "execution_count": null,
            "metadata": {
                "scrolled": true
            },
            "outputs": [],
            "source": "#making sure it has collected the right data\n\nvenuelist.head()"
        },
        {
            "cell_type": "code",
            "execution_count": null,
            "metadata": {
                "scrolled": true
            },
            "outputs": [],
            "source": "#showing the frequency of the likes\n\nvenuelist['Venue Likes'].plot(kind='hist')\n\nplt.title('Histogram of Rivi\u00e8re-des-Prairies\u2013Pointe-aux-Trembles Restaurants') # add a title to the histogram\nplt.ylabel('Number of Likes') # add y-label\nplt.xlabel('Number of Restaurants') # add x-label\n\nplt.show()"
        },
        {
            "cell_type": "code",
            "execution_count": null,
            "metadata": {},
            "outputs": [],
            "source": "# assigning Categories to the Likes\n\nPoor = venuelist['Venue Likes']<=(np.percentile(venuelist['Venue Likes'], 25))\nAcceptable = venuelist[(venuelist['Venue Likes']>(np.percentile(venuelist['Venue Likes'], 25))) & (venuelist['Venue Likes']<=(np.percentile(venuelist['Venue Likes'], 50)))]\nGood = venuelist[(venuelist['Venue Likes']>(np.percentile(venuelist['Venue Likes'], 50))) & (venuelist['Venue Likes']<=(np.percentile(venuelist['Venue Likes'], 75)))]\nGreat = venuelist['Venue Likes']>(np.percentile(venuelist['Venue Likes'], 75))\n\ndef conditions(l):\n    if l['Venue Likes']<=(np.percentile(venuelist['Venue Likes'], 25)):\n        return 'Poor'\n    if l['Venue Likes']<=(np.percentile(venuelist['Venue Likes'], 50)):\n        return 'Acceptable'\n    if l['Venue Likes']<=(np.percentile(venuelist['Venue Likes'], 75)):\n        return 'Good'\n    if l['Venue Likes']>(np.percentile(venuelist['Venue Likes'], 75)):\n        return 'Great'\n\nvenuelist['Likes Categories']=venuelist.apply(conditions, axis=1)"
        },
        {
            "cell_type": "code",
            "execution_count": null,
            "metadata": {
                "scrolled": true
            },
            "outputs": [],
            "source": "# showing the neighbourhoods, venues and the venue's likes.\n\nvenuelike= venuelist.merge(cityven, how='inner', on='Venue Id')\nvenlike= venuelike.drop(['Neighbourhood Latitude','Neighbourhood Longitude'], axis=1)\nvenlike.head()"
        },
        {
            "cell_type": "markdown",
            "metadata": {},
            "source": "<h2> One SHot this data! </h2> <h3>1s and 0s only</h3>"
        },
        {
            "cell_type": "code",
            "execution_count": null,
            "metadata": {},
            "outputs": [],
            "source": "# one hot encoding\ncity_oneshot = pd.get_dummies(venlike[['Likes Categories']], prefix=\"\", prefix_sep=\"\")\n\n# add neighborhood column back to dataframe\ncity_oneshot['Venue Id'] = venlike['Venue Id'] \n\n# move neighborhood column to the first column\nfixed_columns = [city_oneshot.columns[-1]] + list(city_oneshot.columns[:-1])\ncity_oneshot = city_oneshot[fixed_columns]\n\ncity_oneshot.head()"
        },
        {
            "cell_type": "code",
            "execution_count": null,
            "metadata": {},
            "outputs": [],
            "source": "# Order them in frecency of Id\n\ncity_grouped = city_oneshot.groupby('Venue Id').mean().reset_index()\ncity_grouped.head()"
        },
        {
            "cell_type": "markdown",
            "metadata": {},
            "source": "<h2>Make a cluster map!</h2>"
        },
        {
            "cell_type": "code",
            "execution_count": null,
            "metadata": {},
            "outputs": [],
            "source": "kclusters = 4\n\ncity_grouped_clustering = city_grouped.drop('Venue Id', 1)\n\n# run k-means clustering\nkmeans = KMeans(n_clusters=kclusters, random_state=0).fit(city_grouped_clustering)\n\n# check cluster labels generated for each row in the dataframe\nkmeans.labels_[0:10]"
        },
        {
            "cell_type": "code",
            "execution_count": null,
            "metadata": {},
            "outputs": [],
            "source": "# add clustering labels\ncity_grouped.insert(1, 'Cluster Labels', kmeans.labels_)\n\n# merge tables to add latitude/longitude for each neighborhood\ncity_merge = city_grouped.merge(venlike, on='Venue Id')"
        },
        {
            "cell_type": "code",
            "execution_count": null,
            "metadata": {
                "scrolled": false
            },
            "outputs": [],
            "source": "# create map\nlatitude = nlatitude\nlongitude = nlongitude\nmap_clusters = folium.Map(location=[latitude, longitude], zoom_start=11)\n\n# set color scheme for the clusters\nx = np.arange(kclusters)\nys = [i + x + (i*x)**2 for i in range(kclusters)]\ncolors_array = cm.rainbow(np.linspace(0, 1, len(ys)))\nrainbow = [colors.rgb2hex(i) for i in colors_array]\n\n# add markers to the map\nmarkers_colors = []\nfor lat, lon, poi, cluster in zip(city_merge['Venue Latitude'], city_merge['Venue Longitude'], city_merge['Neighbourhood'], city_merge['Cluster Labels']):\n    label = folium.Popup(str(poi) + ' Cluster ' + str(cluster), parse_html=True)\n    folium.CircleMarker(\n        [lat, lon],\n        radius=5,\n        popup=label,\n        color=rainbow[cluster-1],\n        fill=True,\n        fill_color=rainbow[cluster-1],\n        fill_opacity=0.7).add_to(map_clusters)\n       \nmap_clusters"
        },
        {
            "cell_type": "code",
            "execution_count": null,
            "metadata": {},
            "outputs": [],
            "source": "# Cluster \"Poor\" Rating\n\ncity_merge.loc[city_merge['Cluster Labels'] == 0, city_merge.columns[[0] + list(range(6, city_merge.shape[1]))]].head()\n"
        },
        {
            "cell_type": "code",
            "execution_count": null,
            "metadata": {},
            "outputs": [],
            "source": "# Cluster \"Great\" Rating\n\ncity_merge.loc[city_merge['Cluster Labels'] == 1, city_merge.columns[[0] + list(range(6, city_merge.shape[1]))]].head()\n"
        },
        {
            "cell_type": "code",
            "execution_count": null,
            "metadata": {},
            "outputs": [],
            "source": "# Cluster \"Acceptable\" Rating\n\ncity_merge.loc[city_merge['Cluster Labels'] == 2, city_merge.columns[[0] + list(range(6, city_merge.shape[1]))]].head()\n"
        },
        {
            "cell_type": "code",
            "execution_count": null,
            "metadata": {},
            "outputs": [],
            "source": "# Cluster \"Good\" Rating\n\ncity_merge.loc[city_merge['Cluster Labels'] == 3, city_merge.columns[[0] + list(range(6, city_merge.shape[1]))]].head()\n"
        },
        {
            "cell_type": "code",
            "execution_count": null,
            "metadata": {},
            "outputs": [],
            "source": ""
        }
    ],
    "metadata": {
        "kernelspec": {
            "display_name": "Python 3.7",
            "language": "python",
            "name": "python3"
        },
        "language_info": {
            "codemirror_mode": {
                "name": "ipython",
                "version": 3
            },
            "file_extension": ".py",
            "mimetype": "text/x-python",
            "name": "python",
            "nbconvert_exporter": "python",
            "pygments_lexer": "ipython3",
            "version": "3.7.9"
        }
    },
    "nbformat": 4,
    "nbformat_minor": 1
}